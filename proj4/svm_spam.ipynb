{
 "cells": [
  {
   "cell_type": "code",
   "execution_count": 1,
   "metadata": {},
   "outputs": [],
   "source": [
    "import random\n",
    "import numpy as np\n",
    "import matplotlib.pyplot as plt\n",
    "\n",
    "# This is a bit of magic to make matplotlib figures appear inline in the notebook\n",
    "# rather than in a new window.\n",
    "\n",
    "%matplotlib inline\n",
    "plt.rcParams['figure.figsize'] = (10.0, 8.0) # set default size of plots\n",
    "plt.rcParams['image.interpolation'] = 'nearest'\n",
    "plt.rcParams['image.cmap'] = 'gray'\n",
    "\n",
    "# Some more magic so that the notebook will reload external python modules;\n",
    "# see http://stackoverflow.com/questions/1907993/autoreload-of-modules-in-ipython\n",
    "\n",
    "%load_ext autoreload\n",
    "%autoreload 2"
   ]
  },
  {
   "cell_type": "code",
   "execution_count": 33,
   "metadata": {},
   "outputs": [
    {
     "name": "stdout",
     "output_type": "stream",
     "text": [
      "Train data shape:  (3000L, 1899L)\n",
      "Train labels shape:  (3000L,)\n",
      "Validation data shape:  (1000L, 1899L)\n",
      "Validation labels shape:  (1000L,)\n",
      "Test data shape:  (1000L, 1899L)\n",
      "Test labels shape:  (1000L,)\n",
      "0.1\n",
      "0.3\n",
      "1\n",
      "3\n",
      "10\n",
      "30\n",
      "Best C, learning rate and accuracy 1 0.3 0.982\n"
     ]
    }
   ],
   "source": [
    "from sklearn import preprocessing, metrics\n",
    "import utils\n",
    "import scipy.io\n",
    "import numpy as np\n",
    "from linear_classifier import LinearSVM_twoclass\n",
    "import data_utils\n",
    "\n",
    "# load the SPAM email training dataset\n",
    "\n",
    "X,y = utils.load_mat('data/spamTrain.mat')\n",
    "yy = np.ones(y.shape)\n",
    "yy[y==0] = -1\n",
    "\n",
    "# load the SPAM email test dataset\n",
    "\n",
    "test_data = scipy.io.loadmat('data/spamTest.mat')\n",
    "X_test = test_data['Xtest']\n",
    "y_test = test_data['ytest'].flatten()\n",
    "\n",
    "##################################################################################\n",
    "#  YOUR CODE HERE for training the best performing SVM for the data above.       #\n",
    "#  what should C be? What should num_iters be? Should X be scaled?               #\n",
    "#  should X be kernelized? What should the learning rate be? What should the     #\n",
    "#  number of iterations be?                                                      #\n",
    "##################################################################################\n",
    "##subsampling\n",
    "import data_utils\n",
    "X_train,y_train,X_val,y_val,X_dev,y_dev,X_test,y_test=data_utils.subsample(3000,1000,1000,0,X,yy,X_test,y_test)\n",
    "\n",
    "\n",
    "##search for the best SVM\n",
    "C = [0.1,0.3,1,3,10,30]\n",
    "rate = [0.01,0.03,0.1,0.3]\n",
    "best_C = 0\n",
    "best_learn = 0\n",
    "count =0\n",
    "for i in C:\n",
    "    print i\n",
    "    for j in rate:\n",
    "        svm = LinearSVM_twoclass()\n",
    "        svm.theta = np.zeros((X.shape[1],))\n",
    "        svm.train(X_train, y_train , reg = i, learning_rate = j, batch_size = 100 ,num_iters=10000)\n",
    "        y_pred = svm.predict(X_val)\n",
    "\n",
    "        if count < np.sum(y_pred == y_val):\n",
    "            count = np.sum(y_pred == y_val)\n",
    "            best_C = i\n",
    "            best_rate = j\n",
    "\n",
    "print \"Best C, learning rate and accuracy\", best_C, best_rate, count/1000.0\n",
    "\n",
    "##################################################################################\n",
    "# YOUR CODE HERE for testing your best model's performance                       #\n",
    "# what is the accuracy of your best model on the test set? On the training set?  #\n",
    "##################################################################################\n",
    "yy_test = np.ones(y_test.shape)\n",
    "yy_test[y_test == 0]=-1\n",
    "svm.train(X,yy,learning_rate = 0.3, reg = 1, batch_size = 500, num_iters = 10000)\n",
    "y_pred = svm.predict(X_test)\n",
    "print \"Accuracy\", np.sum(y_pred == yy_test)/float(len(y_pred))\n",
    "##################################################################################\n",
    "# ANALYSIS OF MODEL: Print the top 15 words that are predictive of spam and for  #\n",
    "# ham. Hint: use the coefficient values of the learned model                     #\n",
    "##################################################################################\n",
    "words, inv_words = utils.get_vocab_dict()\n",
    "disc = {}\n",
    "j =1 \n",
    "for i in svm.theta:\n",
    "    disc[i]= j\n",
    "    j+=1\n",
    "sort_theta = np.sort(svm.theta)[::-1]\n",
    "j = 15\n",
    "max_num=[]\n",
    "for i in sort_theta:\n",
    "    if j>0:\n",
    "        max_num.append(disc[i])\n",
    "        j = j-1\n",
    "for i,j in enumerate(max_num):\n",
    "    print j, words[j], sort_theta[i]\n",
    "\n",
    "\n",
    "##################################################################################\n",
    "#                    END OF YOUR CODE                                            #\n",
    "##################################################################################"
   ]
  },
  {
   "cell_type": "code",
   "execution_count": 35,
   "metadata": {},
   "outputs": [
    {
     "name": "stdout",
     "output_type": "stream",
     "text": [
      "Accuracy 0.989\n"
     ]
    }
   ],
   "source": [
    "##################################################################################\n",
    "# YOUR CODE HERE for testing your best model's performance                       #\n",
    "# what is the accuracy of your best model on the test set? On the training set?  #\n",
    "##################################################################################\n",
    "yy_test = np.ones(y_test.shape)\n",
    "yy_test[y_test == 0]=-1\n",
    "svm.train(X,yy,learning_rate = 0.3, reg = 1, batch_size = 500, num_iters = 10000)\n",
    "y_pred = svm.predict(X_test)\n",
    "print \"Accuracy\", np.sum(y_pred == yy_test)/float(len(y_pred))"
   ]
  },
  {
   "cell_type": "code",
   "execution_count": 38,
   "metadata": {},
   "outputs": [],
   "source": [
    "disc = {}\n",
    "j =1 \n",
    "for i in svm.theta:\n",
    "    disc[i]= j\n",
    "    j+=1\n"
   ]
  },
  {
   "cell_type": "code",
   "execution_count": 40,
   "metadata": {},
   "outputs": [],
   "source": [
    "sort_theta = np.sort(svm.theta)[::-1]\n",
    "j = 15\n",
    "max_num=[]\n",
    "for i in sort_theta:\n",
    "    if j>0:\n",
    "        max_num.append(disc[i])\n",
    "        j = j-1\n"
   ]
  },
  {
   "cell_type": "code",
   "execution_count": 49,
   "metadata": {},
   "outputs": [
    {
     "name": "stdout",
     "output_type": "stream",
     "text": [
      " 1191 our 0.5216618252354417\n",
      "298 click 0.5103177587835251\n",
      "1398 remov 0.44735554582585224\n",
      "739 guarante 0.4300091878079063\n",
      "156 basenumb 0.40868365513504595\n",
      "1796 visit 0.3958199383610757\n",
      "477 dollar 0.3366393236589053\n",
      "1852 will 0.302937418862586\n",
      "966 lo 0.2984218930045666\n",
      "1299 price 0.29197185890924676\n",
      "1089 nbsp 0.284525720672859\n",
      "1264 pleas 0.2752147232238883\n",
      "792 hour 0.27497394100869976\n",
      "391 da 0.2569661420136832\n",
      "1067 most 0.2545557806067744\n"
     ]
    }
   ],
   "source": [
    "##################################################################################\n",
    "# ANALYSIS OF MODEL: Print the top 15 words that are predictive of spam and for  #\n",
    "# ham. Hint: use the coefficient values of the learned model                     #\n",
    "##################################################################################\n",
    "for i,j in enumerate(max_num):\n",
    "    print j, words[j], sort_theta[i]"
   ]
  }
 ],
 "metadata": {
  "kernelspec": {
   "display_name": "Python 2",
   "language": "python",
   "name": "python2"
  },
  "language_info": {
   "codemirror_mode": {
    "name": "ipython",
    "version": 2
   },
   "file_extension": ".py",
   "mimetype": "text/x-python",
   "name": "python",
   "nbconvert_exporter": "python",
   "pygments_lexer": "ipython2",
   "version": "2.7.14"
  }
 },
 "nbformat": 4,
 "nbformat_minor": 1
}
