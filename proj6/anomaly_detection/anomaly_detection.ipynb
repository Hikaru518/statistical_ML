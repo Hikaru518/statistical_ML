{
 "cells": [
  {
   "cell_type": "markdown",
   "metadata": {},
   "source": [
    "## Anomaly detection (10 points)\n",
    "\n",
    "In this problem, you will implement an anomaly detection algorithm to detect\n",
    "anomalous behavior in server computers. The features measure the throughput\n",
    "(mb/s) and latency (ms) of response of each server. We have a dataset ${\\cal D} = \\{x^{(1)}, \\ldots, x^{(m)}\\}$ of unlabeled examples where \n",
    "$m = 307$ and each example $x^{(i)} \\in \\Re^2$. You suspect that the\n",
    "vast majority of these examples are “normal” (non-anomalous) examples of\n",
    "the servers operating normally, but there might also be some examples of\n",
    "servers acting anomalously within this dataset. "
   ]
  },
  {
   "cell_type": "code",
   "execution_count": null,
   "metadata": {
    "collapsed": false
   },
   "outputs": [],
   "source": [
    "import numpy as np\n",
    "import matplotlib.pyplot as plt\n",
    "import scipy.io\n",
    "import utils_anomaly\n",
    "\n",
    "%matplotlib inline\n",
    "plt.rcParams['figure.figsize'] = (10.0, 8.0) # set default size of plots\n",
    "plt.rcParams['image.interpolation'] = 'nearest'\n",
    "plt.rcParams['image.cmap'] = 'gray'\n",
    "\n",
    "# for auto-reloading external modules\n",
    "# see http://stackoverflow.com/questions/1907993/autoreload-of-modules-in-ipython\n",
    "%load_ext autoreload\n",
    "%autoreload 2"
   ]
  },
  {
   "cell_type": "markdown",
   "metadata": {},
   "source": [
    "## Anomaly detection on a simple 2D data set\n",
    "You will use a Gaussian model to detect anomalous examples in your\n",
    "dataset. You will first start on a 2D dataset that will allow you to visualize\n",
    "what the algorithm is doing. On that dataset you will fit a Gaussian distribution\n",
    "and then find values that have very low probability and hence can\n",
    "be considered anomalies. After that, you will apply the anomaly detection\n",
    "algorithm to a larger dataset with many dimensions. \n",
    "\n",
    "The cell below  will visualize the dataset as shown in Figure 9 of your homework handout."
   ]
  },
  {
   "cell_type": "code",
   "execution_count": null,
   "metadata": {
    "collapsed": false
   },
   "outputs": [],
   "source": [
    "data = scipy.io.loadmat('anomalydata1.mat')\n",
    "X = data['X']\n",
    "Xval = data['Xval']\n",
    "yval = data['yval']\n",
    "\n",
    "plt.figure()\n",
    "plt.scatter(X[:,0],X[:,1],c='b')\n",
    "plt.xlabel('Latency (ms)')\n",
    "plt.ylabel('Throughput (mb/s)')"
   ]
  },
  {
   "cell_type": "markdown",
   "metadata": {},
   "source": [
    "## Gaussian distributions\n",
    "To perform anomaly detection, you will first need to fit a model to the data’s\n",
    "distribution.\n",
    "Given a training set $\\{x^{(1)}, \\ldots, x^{(m)}\\}$ (where $x^{(i)} \\in \\Re^2$), you want to estimate\n",
    "the Gaussian distribution for each of the features $x_j$. For each feature\n",
    "$j = 1\\ldots d$, you need to find parameters $\\mu_j$ and $\\sigma_j^2$,\n",
    "that fit the data in the $j^{th}$ dimension in each example. Recall that a univariate Gaussian distribution is given by\n",
    "\\[ p(x;\\mu,\\sigma^2) = \\frac{1}{\\sqrt{2\\pi\\sigma^2}}exp\\left (-\\frac{{(x-\\mu)}^2}{2\\sigma^2}\\right ) \\]\n",
    "where $\\mu$ is the mean and $\\sigma^2$ is the variance.\n",
    "\n",
    "### Problem 6.1: Estimating parameters of a Gaussian distribution (5 points)\n",
    "\n",
    "You can estimate the parameters, $\\mu_j$ and $\\sigma_j^2$ of the $j^{th}$ feature by using the\n",
    "following equations. To estimate the mean, you will use:\n",
    "$$ \\mu_j = \\frac{1}{m} \\sum_{i=1}^{m} x_j^{(i)} $$\n",
    "\n",
    "To estimate the variance, you will use:\n",
    "\n",
    "$$ \\sigma_j^2 = \\frac{1}{m}\\sum_{i=1}^{m} {(x_j^{(i)} - \\mu_j)}^2 $$\n",
    "\n",
    "Your task is to complete the function  **estimate_gaussian** in **utils_anomaly.py**. This function\n",
    "takes as input the data matrix **X** and should output an $d$-dimensional vector\n",
    "**mu** that holds the mean of all the $d$ features and another $d$-dimensional vector\n",
    "**var** that holds the variances of all the features. You should implement this\n",
    "in a  vectorized way to be more efficient.\n",
    " Note that in **numpy**, the **var** function will\n",
    "(by default) use $\\frac{1}{m-1}$ instead of $\\frac{1}{m}$ when computing $\\sigma_j^2$. Use the **ddof** parameter of **numpy.var** and set it to  zero for calculating variance.\n",
    "\n",
    "Once you have completed the function **estimate_gaussian**, the next\n",
    "cell of  will visualize the contours of the fitted Gaussian distribution.\n",
    " From your plot, you can see that\n",
    "most of the examples are in the region with the highest probability, while\n",
    "the anomalous examples are in the regions with lower probabilities."
   ]
  },
  {
   "cell_type": "code",
   "execution_count": null,
   "metadata": {
    "collapsed": false
   },
   "outputs": [],
   "source": [
    "import matplotlib.mlab as mlab\n",
    "import math\n",
    "# estimate a Gaussian on the data\n",
    "mu1, var1 = utils_anomaly.estimate_gaussian(X)\n",
    "\n",
    "# compute the multivariate normal at each data point of X with these parameters\n",
    "from scipy.stats import multivariate_normal\n",
    "p = multivariate_normal.pdf(X,mean=mu1,cov=var1)\n",
    "\n",
    "# visualize the multivariate normal\n",
    "plotX,plotY = np.meshgrid(np.linspace(0,30),np.linspace(0,30))\n",
    "plotZ = mlab.bivariate_normal(plotX,plotY,math.sqrt(var1[0]),math.sqrt(var1[1]),mu1[0],mu1[1])\n",
    "plt.contour(plotX,plotY,plotZ,levels=[np.mean(plotZ) + i*np.std(plotZ) for i in range(10)])\n",
    "plt.scatter(X[:,0],X[:,1],c='b')"
   ]
  },
  {
   "cell_type": "markdown",
   "metadata": {},
   "source": [
    "### Problem 6.2: Selecting the threshold $\\epsilon$ (5 points)\n",
    "\n",
    "Now that you have estimated the Gaussian parameters, you can investigate\n",
    "which examples have a very high probability given this distribution and which\n",
    "examples have a very low probability. The low probability examples are\n",
    "more likely to be the anomalies in our dataset. One way to determine which\n",
    "examples are anomalies is to select a threshold based on a validation\n",
    "set. In this part of the assignment, you will implement an algorithm to select\n",
    "the threshold $\\epsilon$ using the F1 score on a validation set.\n",
    "\n",
    "You should now complete the function **select_threshold** in **utils_anomaly.py**.  For this, we will use a  validation set $\\{(x_{v}^{(1)},y_{v}^{(1)}),\\ldots,(x_{v}^{(m_{v})},y_{v}^{(m_{v})})\\}$, where the label $y_v=1$ corresponds to an anomalous example, and $y_v=0$ corresponds to a normal example. For each example in the validation set, we will compute $p(x_v^{(i)})$. The vector of these probabilities $p(x_v^{(1)}),\\ldots, p(x_v^{(m_v)})$ is passed to **select_threshold** function in the vector **pval**. The corresponding set of labels $y_v^{(1)}, \\ldots, y_v^{(m_v)}$ is passed to the same function in the vector **yval**.\n",
    "\n",
    "The function **select_threshold** should return two values; the first is\n",
    "the selected threshold $\\epsilon$. If an example $x$ has a low probability, i.e., $p(x) < \\epsilon$,\n",
    "then it is considered to be an anomaly. The function should also return the\n",
    "F1 score, which tells you how well you are doing on finding the ground truth\n",
    "anomalies given a certain threshold. For many different values of $\\epsilon$, you will\n",
    "compute the resulting F1 score by computing how many examples the current\n",
    "threshold classifies correctly and incorrectly.\n",
    "\n",
    "The F1 score is computed using precision *prec* and recall *rec*:\n",
    "\n",
    "$$ F_1 = \\frac{2 \\times prec \\times rec}{prec + rec} $$\n",
    "\n",
    "You compute precision and recall by:\n",
    "\\begin{eqnarray*}\n",
    "prec & = & \\frac{tp}{tp+fp} \\\\\n",
    "rec & = &\\frac{tp}{tp+fn}\n",
    "\\end{eqnarray*}\n",
    "where\n",
    "\n",
    "- *tp* is the number of true positives: the ground truth label says it is an\n",
    "anomaly and our algorithm correctly classified it as an anomaly.\n",
    "\n",
    "- *fp* is the number of false positives: the ground truth label says it is not\n",
    "an anomaly, but our algorithm incorrectly classified it as an anomaly.\n",
    "\n",
    "- *fn* is the number of false negatives: the ground truth label says it is an\n",
    "anomaly, but our algorithm incorrectly classified it as not being anomalous.\n",
    "\n",
    "\n",
    "In the provided function **select_threshold**, there is already a loop that\n",
    "will try many different values of $\\epsilon$ and select the best $\\epsilon$ based on the F1 score.\n",
    "You need to implement\n",
    "the computation of the F1 score  over all the \n",
    "validation examples (i.e., to compute the values *tp*, *fp*, *fn*). You should see a\n",
    "value for epsilon of about $8.99*10^{-5}$.\n",
    "\n",
    "Implementation hints: In order to compute *tp*, *fp* and *fn*, you should\n",
    "use a vectorized implementation rather than loop over all the\n",
    "examples. \n",
    "\n",
    "Once you have completed the function **select_threshold**, the next cell\n",
    "will run your function and color the anomalies red in\n",
    "the contour plot."
   ]
  },
  {
   "cell_type": "code",
   "execution_count": null,
   "metadata": {
    "collapsed": false
   },
   "outputs": [],
   "source": [
    "# selecting the anomalous examples using Xval, yval\n",
    "pval = multivariate_normal.pdf(Xval,mean=mu1,cov=var1)\n",
    "best_epsilon, F1 = utils_anomaly.select_threshold(yval,pval)\n",
    "print best_epsilon, F1\n",
    "outliers = p<best_epsilon\n",
    "outlier_index = np.array(range(len(outliers)))[outliers]\n",
    "\n",
    "plotX,plotY = np.meshgrid(np.linspace(0,30),np.linspace(0,30))\n",
    "plotZ = mlab.bivariate_normal(plotX,plotY,math.sqrt(var1[0]),math.sqrt(var1[1]),mu2[0],mu2[1])\n",
    "plt.contour(plotX,plotY,plotZ,levels=[np.mean(plotZ) + i*np.std(plotZ) for i in range(10)])\n",
    "plt.scatter(X[:,0],X[:,1],c='b')\n",
    "# mark the outliers\n",
    "plt.scatter(X[outlier_index,0],X[outlier_index,1],c='r',s=30,marker='o')    "
   ]
  },
  {
   "cell_type": "markdown",
   "metadata": {},
   "source": [
    "## High dimensional dataset\n",
    "The last cell  of the notebook will run the anomaly detection algorithm\n",
    "you implemented on a more realistic and much harder dataset. In this\n",
    "dataset, each example is described by 11 features, capturing many more\n",
    "properties of the compute servers.\n",
    "The script will use your functions to estimate the Gaussian parameters,\n",
    " evaluate the probabilities for both the training data **X** from which you\n",
    "estimated the Gaussian parameters, and do so for the the validation\n",
    "set **Xval**. Finally, it will use **select_threshold** to find the best threshold $\\epsilon$.\n",
    "You should see a value  of about $1.38*10^{-18}$ for $\\epsilon$, and 117 anomalies should be found."
   ]
  },
  {
   "cell_type": "code",
   "execution_count": null,
   "metadata": {
    "collapsed": false
   },
   "outputs": [],
   "source": [
    "# multidimensional outliers\n",
    "data = scipy.io.loadmat('anomalydata2.mat')\n",
    "X = data['X']\n",
    "Xval = data['Xval']\n",
    "yval = data['yval']\n",
    "mu2,var2 = utils_anomaly.estimate_gaussian(X)\n",
    "p = scipy.stats.multivariate_normal.pdf(X,mean=mu2,cov=var2)\n",
    "pval = scipy.stats.multivariate_normal.pdf(Xval,mean=mu2,cov=var2)\n",
    "best_epsilon,bestF1 = utils_anomaly.select_threshold(yval,pval)\n",
    "print best_epsilon, bestF1\n",
    "outliers = p<best_epsilon\n",
    "outlier_index = np.array(range(len(outliers)))[outliers]\n",
    "print outlier_index.shape"
   ]
  },
  {
   "cell_type": "code",
   "execution_count": null,
   "metadata": {
    "collapsed": true
   },
   "outputs": [],
   "source": []
  }
 ],
 "metadata": {
  "anaconda-cloud": {},
  "kernelspec": {
   "display_name": "Python [conda root]",
   "language": "python",
   "name": "conda-root-py"
  },
  "language_info": {
   "codemirror_mode": {
    "name": "ipython",
    "version": 2
   },
   "file_extension": ".py",
   "mimetype": "text/x-python",
   "name": "python",
   "nbconvert_exporter": "python",
   "pygments_lexer": "ipython2",
   "version": "2.7.12"
  }
 },
 "nbformat": 4,
 "nbformat_minor": 1
}
