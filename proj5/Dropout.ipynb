{
 "cells": [
  {
   "cell_type": "markdown",
   "metadata": {},
   "source": [
    "# Dropout\n",
    "Dropout [1] is a technique for regularizing neural networks by randomly setting some features to zero during the forward pass. In this exercise you will implement a dropout layer and modify your fully-connected network to optionally use dropout.\n",
    "\n",
    "[1] Geoffrey E. Hinton et al, \"Improving neural networks by preventing co-adaptation of feature detectors\", arXiv 2012"
   ]
  },
  {
   "cell_type": "code",
   "execution_count": 1,
   "metadata": {
    "collapsed": false
   },
   "outputs": [],
   "source": [
    "# As usual, a bit of setup\n",
    "\n",
    "import time\n",
    "import numpy as np\n",
    "import matplotlib.pyplot as plt\n",
    "from fc_net import *\n",
    "from data_utils import get_CIFAR10_data\n",
    "from gradient_check import eval_numerical_gradient, eval_numerical_gradient_array\n",
    "from solver import Solver\n",
    "\n",
    "%matplotlib inline\n",
    "plt.rcParams['figure.figsize'] = (10.0, 8.0) # set default size of plots\n",
    "plt.rcParams['image.interpolation'] = 'nearest'\n",
    "plt.rcParams['image.cmap'] = 'gray'\n",
    "\n",
    "# for auto-reloading external modules\n",
    "# see http://stackoverflow.com/questions/1907993/autoreload-of-modules-in-ipython\n",
    "%load_ext autoreload\n",
    "%autoreload 2\n",
    "\n",
    "def rel_error(x, y):\n",
    "  \"\"\" returns relative error \"\"\"\n",
    "  return np.max(np.abs(x - y) / (np.maximum(1e-8, np.abs(x) + np.abs(y))))"
   ]
  },
  {
   "cell_type": "code",
   "execution_count": 2,
   "metadata": {
    "collapsed": false
   },
   "outputs": [
    {
     "name": "stdout",
     "output_type": "stream",
     "text": [
      "X_val:  (1000, 3, 32, 32)\n",
      "X_train:  (49000, 3, 32, 32)\n",
      "X_test:  (1000, 3, 32, 32)\n",
      "y_val:  (1000,)\n",
      "y_train:  (49000,)\n",
      "y_test:  (1000,)\n"
     ]
    }
   ],
   "source": [
    "# Load the (preprocessed) CIFAR10 data.\n",
    "\n",
    "data = get_CIFAR10_data()\n",
    "for k, v in data.iteritems():\n",
    "  print '%s: ' % k, v.shape"
   ]
  },
  {
   "cell_type": "markdown",
   "metadata": {},
   "source": [
    "# Dropout forward pass\n",
    "In the file `layers.py`, implement the forward pass for dropout. Since dropout behaves differently during training and testing, make sure to implement the operation for both modes.\n",
    "\n",
    "While training, dropout is implemented by only keeping a unit in a hidden layer active with some probability p\n",
    "(a hyperparameter), or setting it to zero otherwise. A naive implementation of this approach will require us \n",
    "to scale hidden unit outputs during testing by the factor of p. Instead, we recommend the approach shown in\n",
    "pseudo-code below, called inverted drop out, in which we do the scaling during training time, so the predict function during testing remains the same.\n",
    "\n",
    "```python\n",
    "#### forward pass for example 3-layer neural network\n",
    "def train_step(X,p):\n",
    "  drop = 1 - p\n",
    "  H1 = np.maximum(0, np.dot(theta1, X) + theta1_0)\n",
    "  U1 = (np.random.rand(*H1.shape) < drop) / drop # first dropout mask. Notice /drop!\n",
    "  H1 *= U1 # drop!\n",
    "  H2 = np.maximum(0, np.dot(theta2, H1) + theta2_0)\n",
    "  U2 = (np.random.rand(*H2.shape) < drop) / drop # second dropout mask. Notice /drop!\n",
    "  H2 *= U2 # drop!\n",
    "  out = np.dot(theta3, H2) + theta3_0\n",
    "```\n",
    "\n",
    "Once you have done so, run the cell below to test your implementation."
   ]
  },
  {
   "cell_type": "code",
   "execution_count": 3,
   "metadata": {
    "collapsed": false
   },
   "outputs": [
    {
     "name": "stdout",
     "output_type": "stream",
     "text": [
      "Running tests with p =  0.3\n",
      "Mean of input:  10.001216991\n",
      "Mean of train-time output:  9.98744978652\n",
      "Mean of test-time output:  10.001216991\n",
      "Fraction of train-time output set to zero:  0.300896\n",
      "Fraction of test-time output set to zero:  0.0\n",
      "\n",
      "Running tests with p =  0.6\n",
      "Mean of input:  10.001216991\n",
      "Mean of train-time output:  10.0033988485\n",
      "Mean of test-time output:  10.001216991\n",
      "Fraction of train-time output set to zero:  0.600056\n",
      "Fraction of test-time output set to zero:  0.0\n",
      "\n",
      "Running tests with p =  0.75\n",
      "Mean of input:  10.001216991\n",
      "Mean of train-time output:  9.98087752852\n",
      "Mean of test-time output:  10.001216991\n",
      "Fraction of train-time output set to zero:  0.750632\n",
      "Fraction of test-time output set to zero:  0.0\n",
      "\n"
     ]
    }
   ],
   "source": [
    "x = np.random.randn(500, 500) + 10\n",
    "\n",
    "for p in [0.3, 0.6, 0.75]:\n",
    "  out, _ = dropout_forward(x, {'mode': 'train', 'p': p})\n",
    "  out_test, _ = dropout_forward(x, {'mode': 'test', 'p': p})\n",
    "\n",
    "  print 'Running tests with p = ', p\n",
    "  print 'Mean of input: ', x.mean()\n",
    "  print 'Mean of train-time output: ', out.mean()\n",
    "  print 'Mean of test-time output: ', out_test.mean()\n",
    "  print 'Fraction of train-time output set to zero: ', (out == 0).mean()\n",
    "  print 'Fraction of test-time output set to zero: ', (out_test == 0).mean()\n",
    "  print"
   ]
  },
  {
   "cell_type": "markdown",
   "metadata": {},
   "source": [
    "# Dropout backward pass\n",
    "In the file `layers.py`, implement the backward pass for dropout. After doing so, run the following cell to numerically gradient-check your implementation."
   ]
  },
  {
   "cell_type": "code",
   "execution_count": 4,
   "metadata": {
    "collapsed": false
   },
   "outputs": [
    {
     "name": "stdout",
     "output_type": "stream",
     "text": [
      "dx relative error:  1.89290184834e-11\n"
     ]
    }
   ],
   "source": [
    "x = np.random.randn(10, 10) + 10\n",
    "dout = np.random.randn(*x.shape)\n",
    "\n",
    "dropout_param = {'mode': 'train', 'p': 0.8, 'seed': 123}\n",
    "out, cache = dropout_forward(x, dropout_param)\n",
    "dx = dropout_backward(dout, cache)\n",
    "dx_num = eval_numerical_gradient_array(lambda xx: dropout_forward(xx, dropout_param)[0], x, dout)\n",
    "\n",
    "print 'dx relative error: ', rel_error(dx, dx_num)"
   ]
  },
  {
   "cell_type": "markdown",
   "metadata": {},
   "source": [
    "# Fully-connected nets with Dropout\n",
    "In the file `fc_net.py`, modify your implementation to use dropout. Specifically, if the constructor of the net receives a nonzero value for the `dropout` parameter, then the net should add dropout immediately after every ReLU nonlinearity. After doing so, run the following to numerically gradient-check your implementation."
   ]
  },
  {
   "cell_type": "code",
   "execution_count": 5,
   "metadata": {
    "collapsed": false
   },
   "outputs": [
    {
     "name": "stdout",
     "output_type": "stream",
     "text": [
      "Running check with dropout =  0\n",
      "Initial loss:  2.3051948274\n",
      "theta1 relative error: 2.53e-07\n",
      "theta1_0 relative error: 2.94e-06\n",
      "theta2 relative error: 1.50e-05\n",
      "theta2_0 relative error: 5.05e-08\n",
      "theta3 relative error: 2.75e-07\n",
      "theta3_0 relative error: 1.17e-10\n",
      "\n",
      "Running check with dropout =  0.25\n",
      "Initial loss:  2.30239323056\n",
      "theta1 relative error: 3.39e-07\n",
      "theta1_0 relative error: 3.68e-08\n",
      "theta2 relative error: 2.24e-07\n",
      "theta2_0 relative error: 5.47e-09\n",
      "theta3 relative error: 1.97e-07\n",
      "theta3_0 relative error: 7.54e-11\n",
      "\n",
      "Running check with dropout =  0.5\n",
      "Initial loss:  2.30134643809\n",
      "theta1 relative error: 1.29e-07\n",
      "theta1_0 relative error: 6.99e-09\n",
      "theta2 relative error: 3.95e-07\n",
      "theta2_0 relative error: 2.82e-09\n",
      "theta3 relative error: 4.28e-07\n",
      "theta3_0 relative error: 8.93e-11\n",
      "\n"
     ]
    }
   ],
   "source": [
    "m, d, h1, h2, C = 2, 15, 20, 30, 10\n",
    "X = np.random.randn(m, d)\n",
    "y = np.random.randint(C, size=(m,))\n",
    "\n",
    "for dropout in [0, 0.25, 0.5]:\n",
    "  print 'Running check with dropout = ', dropout\n",
    "  model = FullyConnectedNet([h1, h2], input_dim=d, num_classes=C,\n",
    "                            weight_scale=5e-2, dtype=np.float64,\n",
    "                            dropout=dropout, seed=123)\n",
    "\n",
    "  loss, grads = model.loss(X, y)\n",
    "  print 'Initial loss: ', loss\n",
    "\n",
    "  for name in sorted(grads):\n",
    "    f = lambda _: model.loss(X, y)[0]\n",
    "    grad_num = eval_numerical_gradient(f, model.params[name], verbose=False, h=1e-5)\n",
    "    print '%s relative error: %.2e' % (name, rel_error(grad_num, grads[name]))\n",
    "  print"
   ]
  },
  {
   "cell_type": "markdown",
   "metadata": {},
   "source": [
    "# Regularization experiment\n",
    "As an experiment, we will train a pair of two-layer networks on 500 training examples: one will use no dropout, and one will use a dropout probability of 0.75. We will then visualize the training and validation accuracies of the two networks over time."
   ]
  },
  {
   "cell_type": "code",
   "execution_count": 6,
   "metadata": {
    "collapsed": false,
    "scrolled": false
   },
   "outputs": [
    {
     "name": "stdout",
     "output_type": "stream",
     "text": [
      "0\n",
      "(Iteration 1 / 125) loss: 8.900812\n",
      "(Epoch 0 / 25) train acc: 0.210000; val_acc: 0.178000\n"
     ]
    },
    {
     "name": "stderr",
     "output_type": "stream",
     "text": [
      "layers.py:442: RuntimeWarning: divide by zero encountered in log\n",
      "  loss = -np.sum(np.log(probs[np.arange(m), y])) / m\n"
     ]
    },
    {
     "name": "stdout",
     "output_type": "stream",
     "text": [
      "(Epoch 1 / 25) train acc: 0.278000; val_acc: 0.214000\n",
      "(Epoch 2 / 25) train acc: 0.308000; val_acc: 0.194000\n",
      "(Epoch 3 / 25) train acc: 0.412000; val_acc: 0.201000\n",
      "(Epoch 4 / 25) train acc: 0.464000; val_acc: 0.281000\n",
      "(Epoch 5 / 25) train acc: 0.480000; val_acc: 0.237000\n",
      "(Epoch 6 / 25) train acc: 0.588000; val_acc: 0.258000\n",
      "(Epoch 7 / 25) train acc: 0.650000; val_acc: 0.294000\n",
      "(Epoch 8 / 25) train acc: 0.738000; val_acc: 0.280000\n",
      "(Epoch 9 / 25) train acc: 0.758000; val_acc: 0.295000\n",
      "(Epoch 10 / 25) train acc: 0.796000; val_acc: 0.269000\n",
      "(Epoch 11 / 25) train acc: 0.828000; val_acc: 0.279000\n",
      "(Epoch 12 / 25) train acc: 0.856000; val_acc: 0.263000\n",
      "(Epoch 13 / 25) train acc: 0.904000; val_acc: 0.275000\n",
      "(Epoch 14 / 25) train acc: 0.914000; val_acc: 0.298000\n",
      "(Epoch 15 / 25) train acc: 0.940000; val_acc: 0.280000\n",
      "(Epoch 16 / 25) train acc: 0.952000; val_acc: 0.280000\n",
      "(Epoch 17 / 25) train acc: 0.960000; val_acc: 0.281000\n",
      "(Epoch 18 / 25) train acc: 0.954000; val_acc: 0.300000\n",
      "(Epoch 19 / 25) train acc: 0.966000; val_acc: 0.298000\n",
      "(Epoch 20 / 25) train acc: 0.966000; val_acc: 0.288000\n",
      "(Iteration 101 / 125) loss: 0.800556\n",
      "(Epoch 21 / 25) train acc: 0.982000; val_acc: 0.289000\n",
      "(Epoch 22 / 25) train acc: 0.992000; val_acc: 0.290000\n",
      "(Epoch 23 / 25) train acc: 0.984000; val_acc: 0.291000\n",
      "(Epoch 24 / 25) train acc: 0.992000; val_acc: 0.295000\n",
      "(Epoch 25 / 25) train acc: 0.996000; val_acc: 0.301000\n",
      "0.75\n",
      "(Iteration 1 / 125) loss: 8.142482\n",
      "(Epoch 0 / 25) train acc: 0.198000; val_acc: 0.162000\n",
      "(Epoch 1 / 25) train acc: 0.272000; val_acc: 0.159000\n",
      "(Epoch 2 / 25) train acc: 0.380000; val_acc: 0.244000\n",
      "(Epoch 3 / 25) train acc: 0.446000; val_acc: 0.228000\n",
      "(Epoch 4 / 25) train acc: 0.512000; val_acc: 0.240000\n",
      "(Epoch 5 / 25) train acc: 0.600000; val_acc: 0.255000\n",
      "(Epoch 6 / 25) train acc: 0.670000; val_acc: 0.302000\n",
      "(Epoch 7 / 25) train acc: 0.744000; val_acc: 0.277000\n",
      "(Epoch 8 / 25) train acc: 0.750000; val_acc: 0.261000\n",
      "(Epoch 9 / 25) train acc: 0.806000; val_acc: 0.252000\n",
      "(Epoch 10 / 25) train acc: 0.854000; val_acc: 0.280000\n",
      "(Epoch 11 / 25) train acc: 0.900000; val_acc: 0.300000\n",
      "(Epoch 12 / 25) train acc: 0.908000; val_acc: 0.295000\n",
      "(Epoch 13 / 25) train acc: 0.894000; val_acc: 0.248000\n",
      "(Epoch 14 / 25) train acc: 0.916000; val_acc: 0.261000\n",
      "(Epoch 15 / 25) train acc: 0.966000; val_acc: 0.300000\n",
      "(Epoch 16 / 25) train acc: 0.950000; val_acc: 0.276000\n",
      "(Epoch 17 / 25) train acc: 0.964000; val_acc: 0.265000\n",
      "(Epoch 18 / 25) train acc: 0.946000; val_acc: 0.275000\n",
      "(Epoch 19 / 25) train acc: 0.936000; val_acc: 0.264000\n",
      "(Epoch 20 / 25) train acc: 0.962000; val_acc: 0.295000\n",
      "(Iteration 101 / 125) loss: 0.066350\n",
      "(Epoch 21 / 25) train acc: 0.958000; val_acc: 0.287000\n",
      "(Epoch 22 / 25) train acc: 0.976000; val_acc: 0.298000\n",
      "(Epoch 23 / 25) train acc: 0.950000; val_acc: 0.307000\n",
      "(Epoch 24 / 25) train acc: 0.984000; val_acc: 0.304000\n",
      "(Epoch 25 / 25) train acc: 0.972000; val_acc: 0.304000\n"
     ]
    }
   ],
   "source": [
    "# Train two identical nets, one with dropout and one without\n",
    "\n",
    "num_train = 500\n",
    "small_data = {\n",
    "  'X_train': data['X_train'][:num_train],\n",
    "  'y_train': data['y_train'][:num_train],\n",
    "  'X_val': data['X_val'],\n",
    "  'y_val': data['y_val'],\n",
    "}\n",
    "\n",
    "solvers = {}\n",
    "dropout_choices = [0, 0.75]\n",
    "for dropout in dropout_choices:\n",
    "  model = FullyConnectedNet([500], dropout=dropout)\n",
    "  print dropout\n",
    "\n",
    "  solver = Solver(model, small_data,\n",
    "                  num_epochs=25, batch_size=100,\n",
    "                  update_rule='adam',\n",
    "                  optim_config={\n",
    "                    'learning_rate': 5e-4,\n",
    "                  },\n",
    "                  verbose=True, print_every=100)\n",
    "  solver.train()\n",
    "  solvers[dropout] = solver"
   ]
  },
  {
   "cell_type": "code",
   "execution_count": 7,
   "metadata": {
    "collapsed": false
   },
   "outputs": [
    {
     "data": {
      "image/png": "[encoded data removed]",
      "text/plain": [
       "<matplotlib.figure.Figure at 0x116c8ed90>"
      ]
     },
     "metadata": {},
     "output_type": "display_data"
    }
   ],
   "source": [
    "# Plot train and validation accuracies of the two models\n",
    "\n",
    "train_accs = []\n",
    "val_accs = []\n",
    "for dropout in dropout_choices:\n",
    "  solver = solvers[dropout]\n",
    "  train_accs.append(solver.train_acc_history[-1])\n",
    "  val_accs.append(solver.val_acc_history[-1])\n",
    "\n",
    "plt.subplot(3, 1, 1)\n",
    "for dropout in dropout_choices:\n",
    "  plt.plot(solvers[dropout].train_acc_history, 'o', label='%.2f dropout' % dropout)\n",
    "plt.title('Train accuracy')\n",
    "plt.xlabel('Epoch')\n",
    "plt.ylabel('Accuracy')\n",
    "plt.legend(ncol=2, loc='lower right')\n",
    "  \n",
    "plt.subplot(3, 1, 2)\n",
    "for dropout in dropout_choices:\n",
    "  plt.plot(solvers[dropout].val_acc_history, 'o', label='%.2f dropout' % dropout)\n",
    "plt.title('Val accuracy')\n",
    "plt.xlabel('Epoch')\n",
    "plt.ylabel('Accuracy')\n",
    "plt.legend(ncol=2, loc='lower right')\n",
    "\n",
    "plt.gcf().set_size_inches(15, 15)\n",
    "plt.show()"
   ]
  },
  {
   "cell_type": "code",
   "execution_count": null,
   "metadata": {
    "collapsed": true
   },
   "outputs": [],
   "source": []
  }
 ],
 "metadata": {
  "anaconda-cloud": {},
  "kernelspec": {
   "display_name": "Python 2",
   "language": "python",
   "name": "python2"
  },
  "language_info": {
   "codemirror_mode": {
    "name": "ipython",
    "version": 2
   },
   "file_extension": ".py",
   "mimetype": "text/x-python",
   "name": "python",
   "nbconvert_exporter": "python",
   "pygments_lexer": "ipython2",
   "version": "2.7.13"
  }
 },
 "nbformat": 4,
 "nbformat_minor": 0
}
