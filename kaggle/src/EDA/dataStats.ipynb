{
 "cells": [
  {
   "cell_type": "markdown",
   "metadata": {},
   "source": [
    "# Statistical Analysis of the Data\n",
    "After having a first glance at the data (please see dataFirstLook.ipynb), we do statistical analysis in this notebook."
   ]
  },
  {
   "cell_type": "markdown",
   "metadata": {},
   "source": [
    "## Read Data"
   ]
  },
  {
   "cell_type": "code",
   "execution_count": 14,
   "metadata": {},
   "outputs": [],
   "source": [
    "import numpy as np\n",
    "import pandas as pd\n",
    "import os\n",
    "import glob\n",
    "import math\n",
    "from os.path import join\n",
    "import shutil\n",
    "\n",
    "ROOT_PATH = '../../'\n",
    "TRAIN_PATH = ROOT_PATH + 'data/stage1_train/'\n",
    "# TEST_PATH = ROOT_PATH + 'data/stage1_test/'\n",
    "\n",
    "# read file names\n",
    "train_ids = os.listdir(TRAIN_PATH)\n",
    "# test_ids = os.listdir(TEST_PATH)\n",
    "\n",
    "# read image paths\n",
    "train_image_paths = [glob.glob(join(TRAIN_PATH, train_id, \"images\", \"*\"))[0] for train_id in train_ids]\n",
    "train_mask_paths = [glob.glob(join(TRAIN_PATH, train_id, \"masks\",\"*\")) for train_id in train_ids]"
   ]
  },
  {
   "cell_type": "markdown",
   "metadata": {},
   "source": [
    "## How many samples? How many nucleis?"
   ]
  },
  {
   "cell_type": "code",
   "execution_count": null,
   "metadata": {},
   "outputs": [],
   "source": []
  },
  {
   "cell_type": "code",
   "execution_count": 15,
   "metadata": {},
   "outputs": [
    {
     "data": {
      "text/plain": [
       "43.971641791044775"
      ]
     },
     "execution_count": 15,
     "metadata": {},
     "output_type": "execute_result"
    }
   ],
   "source": [
    "N = len(train_mask_paths)\n",
    "count=[]\n",
    "for i in range(N):\n",
    "    count.append(len(train_mask_paths[i]))\n",
    "sum(count)/len(count)"
   ]
  }
 ],
 "metadata": {
  "kernelspec": {
   "display_name": "Python 3",
   "language": "python",
   "name": "python3"
  },
  "language_info": {
   "codemirror_mode": {
    "name": "ipython",
    "version": 3
   },
   "file_extension": ".py",
   "mimetype": "text/x-python",
   "name": "python",
   "nbconvert_exporter": "python",
   "pygments_lexer": "ipython3",
   "version": "3.5.4"
  }
 },
 "nbformat": 4,
 "nbformat_minor": 2
}
